{
 "cells": [
  {
   "cell_type": "code",
   "execution_count": 2,
   "id": "nuclear-violin",
   "metadata": {},
   "outputs": [],
   "source": [
    "# from newsrec.config import model_name\n",
    "import pandas as pd\n",
    "import swifter\n",
    "import json\n",
    "import math\n",
    "from tqdm import tqdm\n",
    "from os import path\n",
    "from pathlib import Path\n",
    "import random\n",
    "from nltk.tokenize import word_tokenize\n",
    "import numpy as np\n",
    "import csv\n",
    "import importlib\n",
    "from transformers import RobertaTokenizer, RobertaModel\n",
    "import torch"
   ]
  },
  {
   "cell_type": "code",
   "execution_count": 3,
   "id": "dried-slovakia",
   "metadata": {},
   "outputs": [],
   "source": [
    "train_dir = '../../data/train'\n",
    "source = path.join(train_dir, 'behaviors.tsv')\n",
    "target = path.join(train_dir, 'behaviors_parsed.tsv')\n",
    "user2int_path = path.join(train_dir, 'user2int.tsv')"
   ]
  },
  {
   "cell_type": "code",
   "execution_count": 6,
   "id": "final-jackson",
   "metadata": {},
   "outputs": [],
   "source": [
    "behaviors = pd.read_table(\n",
    "    source,\n",
    "    header=None,\n",
    "    names=['impression_id', 'user', 'time', 'clicked_news', 'impressions'])\n",
    "behaviors.clicked_news.fillna(' ', inplace=True)\n",
    "behaviors.impressions = behaviors.impressions.str.split()"
   ]
  },
  {
   "cell_type": "code",
   "execution_count": 7,
   "id": "after-semester",
   "metadata": {},
   "outputs": [
    {
     "data": {
      "text/html": [
       "<div>\n",
       "<style scoped>\n",
       "    .dataframe tbody tr th:only-of-type {\n",
       "        vertical-align: middle;\n",
       "    }\n",
       "\n",
       "    .dataframe tbody tr th {\n",
       "        vertical-align: top;\n",
       "    }\n",
       "\n",
       "    .dataframe thead th {\n",
       "        text-align: right;\n",
       "    }\n",
       "</style>\n",
       "<table border=\"1\" class=\"dataframe\">\n",
       "  <thead>\n",
       "    <tr style=\"text-align: right;\">\n",
       "      <th></th>\n",
       "      <th>impression_id</th>\n",
       "      <th>user</th>\n",
       "      <th>time</th>\n",
       "      <th>clicked_news</th>\n",
       "      <th>impressions</th>\n",
       "    </tr>\n",
       "  </thead>\n",
       "  <tbody>\n",
       "    <tr>\n",
       "      <th>0</th>\n",
       "      <td>1</td>\n",
       "      <td>U87243</td>\n",
       "      <td>11/10/2019 11:30:54 AM</td>\n",
       "      <td>N8668 N39081 N65259 N79529 N73408 N43615 N2937...</td>\n",
       "      <td>[N78206-0, N26368-0, N7578-0, N58592-0, N19858...</td>\n",
       "    </tr>\n",
       "    <tr>\n",
       "      <th>1</th>\n",
       "      <td>2</td>\n",
       "      <td>U598644</td>\n",
       "      <td>11/12/2019 1:45:29 PM</td>\n",
       "      <td>N56056 N8726 N70353 N67998 N83823 N111108 N107...</td>\n",
       "      <td>[N47996-0, N82719-0, N117066-0, N8491-0, N1237...</td>\n",
       "    </tr>\n",
       "    <tr>\n",
       "      <th>2</th>\n",
       "      <td>3</td>\n",
       "      <td>U532401</td>\n",
       "      <td>11/13/2019 11:23:03 AM</td>\n",
       "      <td>N128643 N87446 N122948 N9375 N82348 N129412 N5...</td>\n",
       "      <td>[N103852-0, N53474-0, N127836-0, N47925-1]</td>\n",
       "    </tr>\n",
       "    <tr>\n",
       "      <th>3</th>\n",
       "      <td>4</td>\n",
       "      <td>U593596</td>\n",
       "      <td>11/12/2019 12:24:09 PM</td>\n",
       "      <td>N31043 N39592 N4104 N8223 N114581 N92747 N1207...</td>\n",
       "      <td>[N38902-0, N76434-0, N71593-0, N100073-0, N108...</td>\n",
       "    </tr>\n",
       "    <tr>\n",
       "      <th>4</th>\n",
       "      <td>5</td>\n",
       "      <td>U239687</td>\n",
       "      <td>11/14/2019 8:03:01 PM</td>\n",
       "      <td>N65250 N122359 N71723 N53796 N41663 N41484 N11...</td>\n",
       "      <td>[N76209-0, N48841-0, N67937-0, N62235-0, N6307...</td>\n",
       "    </tr>\n",
       "  </tbody>\n",
       "</table>\n",
       "</div>"
      ],
      "text/plain": [
       "   impression_id     user                    time  \\\n",
       "0              1   U87243  11/10/2019 11:30:54 AM   \n",
       "1              2  U598644   11/12/2019 1:45:29 PM   \n",
       "2              3  U532401  11/13/2019 11:23:03 AM   \n",
       "3              4  U593596  11/12/2019 12:24:09 PM   \n",
       "4              5  U239687   11/14/2019 8:03:01 PM   \n",
       "\n",
       "                                        clicked_news  \\\n",
       "0  N8668 N39081 N65259 N79529 N73408 N43615 N2937...   \n",
       "1  N56056 N8726 N70353 N67998 N83823 N111108 N107...   \n",
       "2  N128643 N87446 N122948 N9375 N82348 N129412 N5...   \n",
       "3  N31043 N39592 N4104 N8223 N114581 N92747 N1207...   \n",
       "4  N65250 N122359 N71723 N53796 N41663 N41484 N11...   \n",
       "\n",
       "                                         impressions  \n",
       "0  [N78206-0, N26368-0, N7578-0, N58592-0, N19858...  \n",
       "1  [N47996-0, N82719-0, N117066-0, N8491-0, N1237...  \n",
       "2         [N103852-0, N53474-0, N127836-0, N47925-1]  \n",
       "3  [N38902-0, N76434-0, N71593-0, N100073-0, N108...  \n",
       "4  [N76209-0, N48841-0, N67937-0, N62235-0, N6307...  "
      ]
     },
     "execution_count": 7,
     "metadata": {},
     "output_type": "execute_result"
    }
   ],
   "source": [
    "behaviors.head()"
   ]
  },
  {
   "cell_type": "code",
   "execution_count": 9,
   "id": "banned-annex",
   "metadata": {},
   "outputs": [],
   "source": [
    "user2int = {}\n",
    "for row in behaviors.itertuples(index=False):\n",
    "    if row.user not in user2int:\n",
    "        user2int[row.user] = len(user2int) + 1\n",
    "\n",
    "pd.DataFrame(user2int.items(), columns=['user', 'int']).to_csv(user2int_path,\n",
    "                                                       sep='\\t',\n",
    "                                                       index=False)"
   ]
  },
  {
   "cell_type": "code",
   "execution_count": null,
   "id": "material-employee",
   "metadata": {},
   "outputs": [],
   "source": []
  }
 ],
 "metadata": {
  "kernelspec": {
   "display_name": "Python 3",
   "language": "python",
   "name": "python3"
  },
  "language_info": {
   "codemirror_mode": {
    "name": "ipython",
    "version": 3
   },
   "file_extension": ".py",
   "mimetype": "text/x-python",
   "name": "python",
   "nbconvert_exporter": "python",
   "pygments_lexer": "ipython3",
   "version": "3.7.9"
  }
 },
 "nbformat": 4,
 "nbformat_minor": 5
}
