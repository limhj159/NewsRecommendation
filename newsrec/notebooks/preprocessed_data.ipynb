{
 "cells": [
  {
   "cell_type": "code",
   "execution_count": 17,
   "id": "reflected-melissa",
   "metadata": {},
   "outputs": [],
   "source": [
    "import pandas as pd\n",
    "from ast import literal_eval\n",
    "import torch"
   ]
  },
  {
   "cell_type": "code",
   "execution_count": 4,
   "id": "failing-animal",
   "metadata": {},
   "outputs": [],
   "source": [
    "behaviors_parsed = pd.read_table('../../data/train/behaviors_parsed.tsv')"
   ]
  },
  {
   "cell_type": "code",
   "execution_count": 5,
   "id": "minor-sentence",
   "metadata": {},
   "outputs": [
    {
     "data": {
      "text/html": [
       "<div>\n",
       "<style scoped>\n",
       "    .dataframe tbody tr th:only-of-type {\n",
       "        vertical-align: middle;\n",
       "    }\n",
       "\n",
       "    .dataframe tbody tr th {\n",
       "        vertical-align: top;\n",
       "    }\n",
       "\n",
       "    .dataframe thead th {\n",
       "        text-align: right;\n",
       "    }\n",
       "</style>\n",
       "<table border=\"1\" class=\"dataframe\">\n",
       "  <thead>\n",
       "    <tr style=\"text-align: right;\">\n",
       "      <th></th>\n",
       "      <th>user</th>\n",
       "      <th>clicked_news</th>\n",
       "      <th>candidate_news</th>\n",
       "      <th>clicked</th>\n",
       "    </tr>\n",
       "  </thead>\n",
       "  <tbody>\n",
       "    <tr>\n",
       "      <th>0</th>\n",
       "      <td>1</td>\n",
       "      <td>N8668 N39081 N65259 N79529 N73408 N43615 N2937...</td>\n",
       "      <td>N94157 N58592 N58258</td>\n",
       "      <td>1 0 0</td>\n",
       "    </tr>\n",
       "    <tr>\n",
       "      <th>1</th>\n",
       "      <td>1</td>\n",
       "      <td>N8668 N39081 N65259 N79529 N73408 N43615 N2937...</td>\n",
       "      <td>N78699 N39404 N7578</td>\n",
       "      <td>1 0 0</td>\n",
       "    </tr>\n",
       "    <tr>\n",
       "      <th>2</th>\n",
       "      <td>1</td>\n",
       "      <td>N8668 N39081 N65259 N79529 N73408 N43615 N2937...</td>\n",
       "      <td>N71090 N97778 N32954</td>\n",
       "      <td>1 0 0</td>\n",
       "    </tr>\n",
       "    <tr>\n",
       "      <th>3</th>\n",
       "      <td>1</td>\n",
       "      <td>N8668 N39081 N65259 N79529 N73408 N43615 N2937...</td>\n",
       "      <td>N31174 N27822 N26368</td>\n",
       "      <td>1 0 0</td>\n",
       "    </tr>\n",
       "    <tr>\n",
       "      <th>4</th>\n",
       "      <td>2</td>\n",
       "      <td>N56056 N8726 N70353 N67998 N83823 N111108 N107...</td>\n",
       "      <td>N25587 N125161 N62024</td>\n",
       "      <td>1 0 0</td>\n",
       "    </tr>\n",
       "  </tbody>\n",
       "</table>\n",
       "</div>"
      ],
      "text/plain": [
       "   user                                       clicked_news  \\\n",
       "0     1  N8668 N39081 N65259 N79529 N73408 N43615 N2937...   \n",
       "1     1  N8668 N39081 N65259 N79529 N73408 N43615 N2937...   \n",
       "2     1  N8668 N39081 N65259 N79529 N73408 N43615 N2937...   \n",
       "3     1  N8668 N39081 N65259 N79529 N73408 N43615 N2937...   \n",
       "4     2  N56056 N8726 N70353 N67998 N83823 N111108 N107...   \n",
       "\n",
       "          candidate_news clicked  \n",
       "0   N94157 N58592 N58258   1 0 0  \n",
       "1    N78699 N39404 N7578   1 0 0  \n",
       "2   N71090 N97778 N32954   1 0 0  \n",
       "3   N31174 N27822 N26368   1 0 0  \n",
       "4  N25587 N125161 N62024   1 0 0  "
      ]
     },
     "execution_count": 5,
     "metadata": {},
     "output_type": "execute_result"
    }
   ],
   "source": [
    "behaviors_parsed.head()"
   ]
  },
  {
   "cell_type": "code",
   "execution_count": 27,
   "id": "average-corpus",
   "metadata": {},
   "outputs": [],
   "source": [
    "news_parsed = pd.read_table(\n",
    "            '../../data/train/news_parsed.tsv',\n",
    "            index_col='id',\n",
    "            usecols=['id'] + ['title'],\n",
    "            converters={\n",
    "                attribute: literal_eval\n",
    "                for attribute in set(['title']) & set([\n",
    "                    'title', 'abstract', 'title_entities', 'abstract_entities',\n",
    "                    'title_roberta', 'title_mask_roberta', 'abstract_roberta',\n",
    "                    'abstract_mask_roberta'\n",
    "                ])\n",
    "            })"
   ]
  },
  {
   "cell_type": "code",
   "execution_count": 28,
   "id": "centered-strengthening",
   "metadata": {},
   "outputs": [
    {
     "data": {
      "text/html": [
       "<div>\n",
       "<style scoped>\n",
       "    .dataframe tbody tr th:only-of-type {\n",
       "        vertical-align: middle;\n",
       "    }\n",
       "\n",
       "    .dataframe tbody tr th {\n",
       "        vertical-align: top;\n",
       "    }\n",
       "\n",
       "    .dataframe thead th {\n",
       "        text-align: right;\n",
       "    }\n",
       "</style>\n",
       "<table border=\"1\" class=\"dataframe\">\n",
       "  <thead>\n",
       "    <tr style=\"text-align: right;\">\n",
       "      <th></th>\n",
       "      <th>title</th>\n",
       "    </tr>\n",
       "    <tr>\n",
       "      <th>id</th>\n",
       "      <th></th>\n",
       "    </tr>\n",
       "  </thead>\n",
       "  <tbody>\n",
       "    <tr>\n",
       "      <th>N88753</th>\n",
       "      <td>[1, 2, 3, 4, 5, 6, 7, 5, 8, 6, 9, 10, 11, 0, 0...</td>\n",
       "    </tr>\n",
       "    <tr>\n",
       "      <th>N45436</th>\n",
       "      <td>[23, 24, 25, 26, 27, 28, 0, 0, 0, 0, 0, 0, 0, ...</td>\n",
       "    </tr>\n",
       "    <tr>\n",
       "      <th>N23144</th>\n",
       "      <td>[40, 41, 42, 43, 44, 45, 0, 0, 0, 0, 0, 0, 0, ...</td>\n",
       "    </tr>\n",
       "    <tr>\n",
       "      <th>N86255</th>\n",
       "      <td>[58, 59, 56, 60, 61, 62, 1, 63, 30, 64, 52, 65...</td>\n",
       "    </tr>\n",
       "    <tr>\n",
       "      <th>N93187</th>\n",
       "      <td>[1, 66, 59, 67, 30, 68, 69, 70, 1, 71, 59, 72,...</td>\n",
       "    </tr>\n",
       "  </tbody>\n",
       "</table>\n",
       "</div>"
      ],
      "text/plain": [
       "                                                    title\n",
       "id                                                       \n",
       "N88753  [1, 2, 3, 4, 5, 6, 7, 5, 8, 6, 9, 10, 11, 0, 0...\n",
       "N45436  [23, 24, 25, 26, 27, 28, 0, 0, 0, 0, 0, 0, 0, ...\n",
       "N23144  [40, 41, 42, 43, 44, 45, 0, 0, 0, 0, 0, 0, 0, ...\n",
       "N86255  [58, 59, 56, 60, 61, 62, 1, 63, 30, 64, 52, 65...\n",
       "N93187  [1, 66, 59, 67, 30, 68, 69, 70, 1, 71, 59, 72,..."
      ]
     },
     "execution_count": 28,
     "metadata": {},
     "output_type": "execute_result"
    }
   ],
   "source": [
    "news_parsed.head()"
   ]
  },
  {
   "cell_type": "code",
   "execution_count": 41,
   "id": "human-alert",
   "metadata": {},
   "outputs": [],
   "source": [
    "news_id2int = {x: i for i, x in enumerate(news_parsed.index)}\n",
    "news2dict = news_parsed.to_dict('index')"
   ]
  },
  {
   "cell_type": "code",
   "execution_count": 42,
   "id": "automotive-newport",
   "metadata": {},
   "outputs": [],
   "source": [
    "for key1 in news2dict.keys():\n",
    "            for key2 in news2dict[key1].keys():\n",
    "                news2dict[key1][key2] = torch.tensor(\n",
    "                    news2dict[key1][key2])"
   ]
  },
  {
   "cell_type": "code",
   "execution_count": 31,
   "id": "structured-removal",
   "metadata": {},
   "outputs": [],
   "source": [
    "padding_all = {\n",
    "            'category': 0,\n",
    "            'subcategory': 0,\n",
    "            'title': [0] * 20,\n",
    "            'abstract': [0] * 50,\n",
    "            'title_entities': [0] * 20,\n",
    "            'abstract_entities': [0] * 50,\n",
    "            'title_roberta': [0] * 20,\n",
    "            'title_mask_roberta': [0] * 20,\n",
    "            'abstract_roberta': [0] * 50,\n",
    "            'abstract_mask_roberta': [0] * 50\n",
    "        }\n",
    "for key in padding_all.keys():\n",
    "    padding_all[key] = torch.tensor(padding_all[key])"
   ]
  },
  {
   "cell_type": "code",
   "execution_count": 33,
   "id": "trying-forest",
   "metadata": {},
   "outputs": [
    {
     "data": {
      "text/plain": [
       "{'category': tensor(0),\n",
       " 'subcategory': tensor(0),\n",
       " 'title': tensor([0, 0, 0, 0, 0, 0, 0, 0, 0, 0, 0, 0, 0, 0, 0, 0, 0, 0, 0, 0]),\n",
       " 'abstract': tensor([0, 0, 0, 0, 0, 0, 0, 0, 0, 0, 0, 0, 0, 0, 0, 0, 0, 0, 0, 0, 0, 0, 0, 0,\n",
       "         0, 0, 0, 0, 0, 0, 0, 0, 0, 0, 0, 0, 0, 0, 0, 0, 0, 0, 0, 0, 0, 0, 0, 0,\n",
       "         0, 0]),\n",
       " 'title_entities': tensor([0, 0, 0, 0, 0, 0, 0, 0, 0, 0, 0, 0, 0, 0, 0, 0, 0, 0, 0, 0]),\n",
       " 'abstract_entities': tensor([0, 0, 0, 0, 0, 0, 0, 0, 0, 0, 0, 0, 0, 0, 0, 0, 0, 0, 0, 0, 0, 0, 0, 0,\n",
       "         0, 0, 0, 0, 0, 0, 0, 0, 0, 0, 0, 0, 0, 0, 0, 0, 0, 0, 0, 0, 0, 0, 0, 0,\n",
       "         0, 0]),\n",
       " 'title_roberta': tensor([0, 0, 0, 0, 0, 0, 0, 0, 0, 0, 0, 0, 0, 0, 0, 0, 0, 0, 0, 0]),\n",
       " 'title_mask_roberta': tensor([0, 0, 0, 0, 0, 0, 0, 0, 0, 0, 0, 0, 0, 0, 0, 0, 0, 0, 0, 0]),\n",
       " 'abstract_roberta': tensor([0, 0, 0, 0, 0, 0, 0, 0, 0, 0, 0, 0, 0, 0, 0, 0, 0, 0, 0, 0, 0, 0, 0, 0,\n",
       "         0, 0, 0, 0, 0, 0, 0, 0, 0, 0, 0, 0, 0, 0, 0, 0, 0, 0, 0, 0, 0, 0, 0, 0,\n",
       "         0, 0]),\n",
       " 'abstract_mask_roberta': tensor([0, 0, 0, 0, 0, 0, 0, 0, 0, 0, 0, 0, 0, 0, 0, 0, 0, 0, 0, 0, 0, 0, 0, 0,\n",
       "         0, 0, 0, 0, 0, 0, 0, 0, 0, 0, 0, 0, 0, 0, 0, 0, 0, 0, 0, 0, 0, 0, 0, 0,\n",
       "         0, 0])}"
      ]
     },
     "execution_count": 33,
     "metadata": {},
     "output_type": "execute_result"
    }
   ],
   "source": [
    "padding_all"
   ]
  },
  {
   "cell_type": "code",
   "execution_count": 35,
   "id": "devoted-tribute",
   "metadata": {},
   "outputs": [],
   "source": [
    "padding = {\n",
    "    k: v\n",
    "    for k, v in padding_all.items()\n",
    "    if k in ['title']\n",
    "}"
   ]
  },
  {
   "cell_type": "code",
   "execution_count": 36,
   "id": "greater-picking",
   "metadata": {},
   "outputs": [
    {
     "data": {
      "text/plain": [
       "{'title': tensor([0, 0, 0, 0, 0, 0, 0, 0, 0, 0, 0, 0, 0, 0, 0, 0, 0, 0, 0, 0])}"
      ]
     },
     "execution_count": 36,
     "metadata": {},
     "output_type": "execute_result"
    }
   ],
   "source": [
    "padding"
   ]
  },
  {
   "cell_type": "code",
   "execution_count": 44,
   "id": "tribal-selling",
   "metadata": {},
   "outputs": [],
   "source": [
    "def getitem(idx):\n",
    "        num_clicked_news_a_user = 50\n",
    "        item = {}\n",
    "        row = behaviors_parsed.iloc[idx]\n",
    "        item[\"clicked\"] = list(map(int, row.clicked.split()))\n",
    "        item[\"candidate_news\"] = [\n",
    "            news2dict[x] for x in row.candidate_news.split()\n",
    "        ]\n",
    "        item[\"clicked_news\"] = [\n",
    "            news2dict[x]\n",
    "            for x in row.clicked_news.split()[:num_clicked_news_a_user]\n",
    "        ]\n",
    "        repeated_times = num_clicked_news_a_user - \\\n",
    "            len(item[\"clicked_news\"])\n",
    "        \n",
    "        item[\"clicked_news\"] = [padding] * repeated_times + item[\"clicked_news\"]\n",
    "\n",
    "        return item"
   ]
  },
  {
   "cell_type": "code",
   "execution_count": 45,
   "id": "familiar-berlin",
   "metadata": {},
   "outputs": [],
   "source": [
    "item = getitem(0)"
   ]
  },
  {
   "cell_type": "code",
   "execution_count": 48,
   "id": "reserved-complexity",
   "metadata": {},
   "outputs": [
    {
     "data": {
      "text/plain": [
       "{'clicked': [1, 0, 0],\n",
       " 'candidate_news': [{'title': tensor([  559, 55671,   686,  1577,  1469,    59,  3237,  1715,     5,  2192,\n",
       "               5,    70,  2582,  4232,   214,   392,    30, 77128,   109,   935])},\n",
       "  {'title': tensor([  270,  4405, 12408,   746,    43,   258,   770,     8,  2213,     0,\n",
       "               0,     0,     0,     0,     0,     0,     0,     0,     0,     0])},\n",
       "  {'title': tensor([ 1954,   854,  1093,   162,  2008,   345,    51,  1807,    90,  1927,\n",
       "           10938,    22,     0,     0,     0,     0,     0,     0,     0,     0])}],\n",
       " 'clicked_news': [{'title': tensor([0, 0, 0, 0, 0, 0, 0, 0, 0, 0, 0, 0, 0, 0, 0, 0, 0, 0, 0, 0])},\n",
       "  {'title': tensor([0, 0, 0, 0, 0, 0, 0, 0, 0, 0, 0, 0, 0, 0, 0, 0, 0, 0, 0, 0])},\n",
       "  {'title': tensor([0, 0, 0, 0, 0, 0, 0, 0, 0, 0, 0, 0, 0, 0, 0, 0, 0, 0, 0, 0])},\n",
       "  {'title': tensor([0, 0, 0, 0, 0, 0, 0, 0, 0, 0, 0, 0, 0, 0, 0, 0, 0, 0, 0, 0])},\n",
       "  {'title': tensor([0, 0, 0, 0, 0, 0, 0, 0, 0, 0, 0, 0, 0, 0, 0, 0, 0, 0, 0, 0])},\n",
       "  {'title': tensor([0, 0, 0, 0, 0, 0, 0, 0, 0, 0, 0, 0, 0, 0, 0, 0, 0, 0, 0, 0])},\n",
       "  {'title': tensor([0, 0, 0, 0, 0, 0, 0, 0, 0, 0, 0, 0, 0, 0, 0, 0, 0, 0, 0, 0])},\n",
       "  {'title': tensor([0, 0, 0, 0, 0, 0, 0, 0, 0, 0, 0, 0, 0, 0, 0, 0, 0, 0, 0, 0])},\n",
       "  {'title': tensor([0, 0, 0, 0, 0, 0, 0, 0, 0, 0, 0, 0, 0, 0, 0, 0, 0, 0, 0, 0])},\n",
       "  {'title': tensor([0, 0, 0, 0, 0, 0, 0, 0, 0, 0, 0, 0, 0, 0, 0, 0, 0, 0, 0, 0])},\n",
       "  {'title': tensor([0, 0, 0, 0, 0, 0, 0, 0, 0, 0, 0, 0, 0, 0, 0, 0, 0, 0, 0, 0])},\n",
       "  {'title': tensor([0, 0, 0, 0, 0, 0, 0, 0, 0, 0, 0, 0, 0, 0, 0, 0, 0, 0, 0, 0])},\n",
       "  {'title': tensor([0, 0, 0, 0, 0, 0, 0, 0, 0, 0, 0, 0, 0, 0, 0, 0, 0, 0, 0, 0])},\n",
       "  {'title': tensor([0, 0, 0, 0, 0, 0, 0, 0, 0, 0, 0, 0, 0, 0, 0, 0, 0, 0, 0, 0])},\n",
       "  {'title': tensor([0, 0, 0, 0, 0, 0, 0, 0, 0, 0, 0, 0, 0, 0, 0, 0, 0, 0, 0, 0])},\n",
       "  {'title': tensor([0, 0, 0, 0, 0, 0, 0, 0, 0, 0, 0, 0, 0, 0, 0, 0, 0, 0, 0, 0])},\n",
       "  {'title': tensor([0, 0, 0, 0, 0, 0, 0, 0, 0, 0, 0, 0, 0, 0, 0, 0, 0, 0, 0, 0])},\n",
       "  {'title': tensor([0, 0, 0, 0, 0, 0, 0, 0, 0, 0, 0, 0, 0, 0, 0, 0, 0, 0, 0, 0])},\n",
       "  {'title': tensor([0, 0, 0, 0, 0, 0, 0, 0, 0, 0, 0, 0, 0, 0, 0, 0, 0, 0, 0, 0])},\n",
       "  {'title': tensor([0, 0, 0, 0, 0, 0, 0, 0, 0, 0, 0, 0, 0, 0, 0, 0, 0, 0, 0, 0])},\n",
       "  {'title': tensor([0, 0, 0, 0, 0, 0, 0, 0, 0, 0, 0, 0, 0, 0, 0, 0, 0, 0, 0, 0])},\n",
       "  {'title': tensor([0, 0, 0, 0, 0, 0, 0, 0, 0, 0, 0, 0, 0, 0, 0, 0, 0, 0, 0, 0])},\n",
       "  {'title': tensor([0, 0, 0, 0, 0, 0, 0, 0, 0, 0, 0, 0, 0, 0, 0, 0, 0, 0, 0, 0])},\n",
       "  {'title': tensor([0, 0, 0, 0, 0, 0, 0, 0, 0, 0, 0, 0, 0, 0, 0, 0, 0, 0, 0, 0])},\n",
       "  {'title': tensor([0, 0, 0, 0, 0, 0, 0, 0, 0, 0, 0, 0, 0, 0, 0, 0, 0, 0, 0, 0])},\n",
       "  {'title': tensor([0, 0, 0, 0, 0, 0, 0, 0, 0, 0, 0, 0, 0, 0, 0, 0, 0, 0, 0, 0])},\n",
       "  {'title': tensor([0, 0, 0, 0, 0, 0, 0, 0, 0, 0, 0, 0, 0, 0, 0, 0, 0, 0, 0, 0])},\n",
       "  {'title': tensor([0, 0, 0, 0, 0, 0, 0, 0, 0, 0, 0, 0, 0, 0, 0, 0, 0, 0, 0, 0])},\n",
       "  {'title': tensor([0, 0, 0, 0, 0, 0, 0, 0, 0, 0, 0, 0, 0, 0, 0, 0, 0, 0, 0, 0])},\n",
       "  {'title': tensor([0, 0, 0, 0, 0, 0, 0, 0, 0, 0, 0, 0, 0, 0, 0, 0, 0, 0, 0, 0])},\n",
       "  {'title': tensor([0, 0, 0, 0, 0, 0, 0, 0, 0, 0, 0, 0, 0, 0, 0, 0, 0, 0, 0, 0])},\n",
       "  {'title': tensor([0, 0, 0, 0, 0, 0, 0, 0, 0, 0, 0, 0, 0, 0, 0, 0, 0, 0, 0, 0])},\n",
       "  {'title': tensor([0, 0, 0, 0, 0, 0, 0, 0, 0, 0, 0, 0, 0, 0, 0, 0, 0, 0, 0, 0])},\n",
       "  {'title': tensor([0, 0, 0, 0, 0, 0, 0, 0, 0, 0, 0, 0, 0, 0, 0, 0, 0, 0, 0, 0])},\n",
       "  {'title': tensor([49187,  9650,  1659,  1526,  1352,   769,  2778,   710, 49188,   370,\n",
       "             387,   392,  1758,  4882,  5648,     0,     0,     0,     0,     0])},\n",
       "  {'title': tensor([ 177,    5, 7481,    5,  225, 4362, 4363,   94,   87,  156,    0,    0,\n",
       "              0,    0,    0,    0,    0,    0,    0,    0])},\n",
       "  {'title': tensor([ 5544,  5068,   787, 60119,   679,    83,   426,     0,     0,     0,\n",
       "               0,     0,     0,     0,     0,     0,     0,     0,     0,     0])},\n",
       "  {'title': tensor([1771,  348,   51,  134,  350,   83, 8893,  395,   51,  396,   87,  858,\n",
       "             44,   45,    5,  126,   87,   79, 8854,    0])},\n",
       "  {'title': tensor([16294,  1659,  2157,  3237, 16295,    90, 16296,  4560,  7672,     5,\n",
       "             370,   686,    37,  6812,  4299,     0,     0,     0,     0,     0])},\n",
       "  {'title': tensor([  79, 1648,  161,  972,   87, 5723, 2485,  234,  345, 1646, 3527, 2141,\n",
       "              0,    0,    0,    0,    0,    0,    0,    0])},\n",
       "  {'title': tensor([1210, 3672, 3376, 6328,  734,  128, 4691,  963,   87, 1341, 2635,    5,\n",
       "            130,   18,   19,    0,    0,    0,    0,    0])},\n",
       "  {'title': tensor([  177,   225, 58907,     8,   984,   134,    51,   397,   107,   156,\n",
       "               0,     0,     0,     0,     0,     0,     0,     0,     0,     0])},\n",
       "  {'title': tensor([ 6126,    87,   399,     8, 11238,   345,   989,   168,   227,     0,\n",
       "               0,     0,     0,     0,     0,     0,     0,     0,     0,     0])},\n",
       "  {'title': tensor([7061, 1268, 1979,  998,   43, 1693, 1241,  787,    0,    0,    0,    0,\n",
       "              0,    0,    0,    0,    0,    0,    0,    0])},\n",
       "  {'title': tensor([ 2393,    59,     1,  1188,    30,   378,  9219,   515, 58138,     0,\n",
       "               0,     0,     0,     0,     0,     0,     0,     0,     0,     0])},\n",
       "  {'title': tensor([ 4169,    87, 10231,   156,    46,  8131,  5306,    49,   915,  3900,\n",
       "               0,     0,     0,     0,     0,     0,     0,     0,     0,     0])},\n",
       "  {'title': tensor([ 502, 8810, 5728,   70,  407,    0,    0,    0,    0,    0,    0,    0,\n",
       "              0,    0,    0,    0,    0,    0,    0,    0])},\n",
       "  {'title': tensor([   79,   367,    30,  4152,    87, 21536,    79, 32179,  5530,  1469,\n",
       "              99,    79,  9740,    59, 26494,  2070, 42121,     5,   130,     1])},\n",
       "  {'title': tensor([ 522, 1293, 6271,  107,  250,  156,    0,    0,    0,    0,    0,    0,\n",
       "              0,    0,    0,    0,    0,    0,    0,    0])},\n",
       "  {'title': tensor([2998, 1375, 7070,    8, 4678, 7070, 7299,  387,  255,  495,   59, 4774,\n",
       "              0,    0,    0,    0,    0,    0,    0,    0])}]}"
      ]
     },
     "execution_count": 48,
     "metadata": {},
     "output_type": "execute_result"
    }
   ],
   "source": [
    "item"
   ]
  },
  {
   "cell_type": "code",
   "execution_count": null,
   "id": "sealed-intensity",
   "metadata": {},
   "outputs": [],
   "source": []
  }
 ],
 "metadata": {
  "kernelspec": {
   "display_name": "Python 3",
   "language": "python",
   "name": "python3"
  },
  "language_info": {
   "codemirror_mode": {
    "name": "ipython",
    "version": 3
   },
   "file_extension": ".py",
   "mimetype": "text/x-python",
   "name": "python",
   "nbconvert_exporter": "python",
   "pygments_lexer": "ipython3",
   "version": "3.7.9"
  }
 },
 "nbformat": 4,
 "nbformat_minor": 5
}
